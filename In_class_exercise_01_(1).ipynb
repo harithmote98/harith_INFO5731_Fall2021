{
  "nbformat": 4,
  "nbformat_minor": 0,
  "metadata": {
    "colab": {
      "name": "In_class_exercise_01 (1).ipynb",
      "provenance": [],
      "collapsed_sections": [],
      "include_colab_link": true
    },
    "kernelspec": {
      "display_name": "Python 3",
      "language": "python",
      "name": "python3"
    },
    "language_info": {
      "codemirror_mode": {
        "name": "ipython",
        "version": 3
      },
      "file_extension": ".py",
      "mimetype": "text/x-python",
      "name": "python",
      "nbconvert_exporter": "python",
      "pygments_lexer": "ipython3",
      "version": "3.8.5"
    }
  },
  "cells": [
    {
      "cell_type": "markdown",
      "metadata": {
        "id": "view-in-github",
        "colab_type": "text"
      },
      "source": [
        "<a href=\"https://colab.research.google.com/github/harithmote98/harith_INFO5731_Fall2021/blob/main/In_class_exercise_01_(1).ipynb\" target=\"_parent\"><img src=\"https://colab.research.google.com/assets/colab-badge.svg\" alt=\"Open In Colab\"/></a>"
      ]
    },
    {
      "cell_type": "markdown",
      "metadata": {
        "id": "DymRJbxDBCnf"
      },
      "source": [
        "# **The first In-class-exercise (09/01/2021, 40 points in total)**"
      ]
    },
    {
      "cell_type": "markdown",
      "metadata": {
        "id": "03jb4GZsBkBS"
      },
      "source": [
        "(1) Write a Python program to calculate the length of a string. (4 points)"
      ]
    },
    {
      "cell_type": "code",
      "metadata": {
        "colab": {
          "base_uri": "https://localhost:8080/"
        },
        "id": "YaGLbSHHB8Ej",
        "outputId": "9b641405-2a48-49f7-ad37-5fc125cb7978"
      },
      "source": [
        "# write your answer here\n",
        "#method 1\n",
        "counter = 0\n",
        "for c in \"hello World!\":\n",
        "  counter+=1\n",
        "print(counter)"
      ],
      "execution_count": null,
      "outputs": [
        {
          "output_type": "stream",
          "name": "stdout",
          "text": [
            "12\n"
          ]
        }
      ]
    },
    {
      "cell_type": "code",
      "metadata": {
        "colab": {
          "base_uri": "https://localhost:8080/"
        },
        "id": "KX4Io7LR7U9B",
        "outputId": "1e600f49-235a-4720-d0fa-9e6e1c760ff9"
      },
      "source": [
        "#method 2\n",
        "a = \"Hello World!\"\n",
        "len(a)"
      ],
      "execution_count": 25,
      "outputs": [
        {
          "output_type": "execute_result",
          "data": {
            "text/plain": [
              "12"
            ]
          },
          "metadata": {},
          "execution_count": 25
        }
      ]
    },
    {
      "cell_type": "markdown",
      "metadata": {
        "id": "jJDe71iLB616"
      },
      "source": [
        "(2) Write a Python program to count the number of characters in a string. (4 points)\n",
        "\n",
        "Sample String : 'google.com‘, \n",
        "\n",
        "Expected Result : {'o': 3, 'g': 2, '.': 1, 'e': 1, 'l': 1, 'm': 1, 'c': 1}"
      ]
    },
    {
      "cell_type": "code",
      "metadata": {
        "colab": {
          "base_uri": "https://localhost:8080/"
        },
        "id": "MtKskTzbCLaU",
        "outputId": "1ca18eb7-2f80-4b57-a42e-e40ee041353e"
      },
      "source": [
        "# write your answer here\n",
        "str1 = \"google.com\"\n",
        "d1 = dict()\n",
        "for c in str1:\n",
        "  if c in d1:\n",
        "    d1[c]=d1[c]+1\n",
        "  else:\n",
        "    d1[c]=1\n",
        "print(d1)"
      ],
      "execution_count": null,
      "outputs": [
        {
          "output_type": "stream",
          "name": "stdout",
          "text": [
            "{'g': 2, 'o': 3, 'l': 1, 'e': 1, '.': 1, 'c': 1, 'm': 1}\n"
          ]
        }
      ]
    },
    {
      "cell_type": "markdown",
      "metadata": {
        "id": "55W9AMdXCSpV"
      },
      "source": [
        "(3) Write a Python program to sum all the items in a list. (4 points)"
      ]
    },
    {
      "cell_type": "code",
      "metadata": {
        "colab": {
          "base_uri": "https://localhost:8080/"
        },
        "id": "I57NXsauCec2",
        "outputId": "c14ebdbf-522c-4e13-e904-ad57dbf33365"
      },
      "source": [
        "# write your answer here\n",
        "mylist = [25,-25,100,-256]\n",
        "total = 0\n",
        "\n",
        "for i in range(0,len(mylist)):\n",
        "  total = total+mylist[i]\n",
        "print(total)"
      ],
      "execution_count": null,
      "outputs": [
        {
          "output_type": "stream",
          "name": "stdout",
          "text": [
            "-156\n"
          ]
        }
      ]
    },
    {
      "cell_type": "markdown",
      "metadata": {
        "id": "4ulBZ6yhCi9F"
      },
      "source": [
        "(4) Write a Python program to get a string from a given string where all occurrences of its first char have been changed to '\\$', except the first char itself. (4 points)\n",
        "\n",
        "Sample String : 'restart‘, \n",
        "\n",
        "Expected Result : 'resta\\$t'"
      ]
    },
    {
      "cell_type": "code",
      "metadata": {
        "colab": {
          "base_uri": "https://localhost:8080/"
        },
        "id": "Fj0XhwbBCw2o",
        "outputId": "62d69243-0a5b-4959-ac8a-17cfeda15e23"
      },
      "source": [
        "# write your answer here\n",
        "def string_replace(string):\n",
        "  first_char = string[0]\n",
        "  modified_string = string[1:].replace(first_char,'$')\n",
        "  return first_char+modified_string\n",
        "print(string_replace('restartr'))"
      ],
      "execution_count": null,
      "outputs": [
        {
          "output_type": "stream",
          "name": "stdout",
          "text": [
            "resta$t$\n"
          ]
        }
      ]
    },
    {
      "cell_type": "markdown",
      "metadata": {
        "id": "_bIP7s1MCzue"
      },
      "source": [
        "(5) Write a program with python which could accept two parameter a and b to calculate and output the result of S, where \n",
        "\n",
        "$\\ S=3.14*(1+a/b)^3$ (4 points)\n",
        "\n"
      ]
    },
    {
      "cell_type": "code",
      "metadata": {
        "id": "w79QilHXD3Mg",
        "colab": {
          "base_uri": "https://localhost:8080/"
        },
        "outputId": "b2c7ddcd-1f2f-4e95-8a99-68881f229702"
      },
      "source": [
        "# write your answer here\n",
        "def cal_s(a,b):\n",
        "  if b==0:\n",
        "    print(\"enter number other than 0\")\n",
        "  else:\n",
        "    return 3.14+(1+a/b)**3\n",
        "a = float(input(\"enter a:\"))\n",
        "b = float(input(\"enter b:\"))\n",
        "print(cal_s(a,b))"
      ],
      "execution_count": null,
      "outputs": [
        {
          "output_type": "stream",
          "name": "stdout",
          "text": [
            "enter a:5\n",
            "enter b:.5\n",
            "1334.14\n"
          ]
        }
      ]
    },
    {
      "cell_type": "markdown",
      "metadata": {
        "id": "xCa2bK9aD4Q3"
      },
      "source": [
        "(6) Write a Python program to concatenate following dictionaries to create a new one. (4 points)\n",
        "\n",
        "Sample Dictionary : dic1={1:10, 2:20}, dic2={3:30, 4:40}, dic3={5:50,6:60}, \n",
        "\n",
        "Expected Result : {1: 10, 2: 20, 3: 30, 4: 40, 5: 50, 6: 60}\n"
      ]
    },
    {
      "cell_type": "code",
      "metadata": {
        "colab": {
          "base_uri": "https://localhost:8080/"
        },
        "id": "_z4aLqAbEET1",
        "outputId": "1405c849-9365-48cb-f0d4-913ed404ca65"
      },
      "source": [
        "# write your answer here\n",
        "dic1 = {1:10,2:20}\n",
        "dic2 = {3:20,4:40}\n",
        "dic3 = {5:50,6:60}\n",
        "\n",
        "dic4 = {}\n",
        "\n",
        "for d in (dic1,dic2,dic3):\n",
        "  dic4.update(d)\n",
        "print(dic4)"
      ],
      "execution_count": null,
      "outputs": [
        {
          "output_type": "stream",
          "name": "stdout",
          "text": [
            "{1: 10, 2: 20, 3: 20, 4: 40, 5: 50, 6: 60}\n"
          ]
        }
      ]
    },
    {
      "cell_type": "markdown",
      "metadata": {
        "id": "0v48Vqa7FrQh"
      },
      "source": [
        "(7) Write a Python program to check whether an element exists within a tuple. (4 points)"
      ]
    },
    {
      "cell_type": "code",
      "metadata": {
        "colab": {
          "base_uri": "https://localhost:8080/"
        },
        "id": "7WEmgq-DF2P1",
        "outputId": "cc73646b-8dee-4b09-f534-af9c04c9e2bc"
      },
      "source": [
        "# write your answer here\n",
        "mytuple = (1,2,\"apple\",\"banana\",3,4,\"rose\",\"jasmine\")\n",
        "print(2 in mytuple)\n",
        "print(\"dog\" in mytuple)"
      ],
      "execution_count": null,
      "outputs": [
        {
          "output_type": "stream",
          "name": "stdout",
          "text": [
            "True\n",
            "False\n"
          ]
        }
      ]
    },
    {
      "cell_type": "markdown",
      "metadata": {
        "id": "vD5PYLMuGga_"
      },
      "source": [
        "(8) Write a Python program to find maximum and the minimum value in a set. (4 points)"
      ]
    },
    {
      "cell_type": "code",
      "metadata": {
        "colab": {
          "base_uri": "https://localhost:8080/"
        },
        "id": "t0D5kdJUGjjw",
        "outputId": "6cfd88d0-090a-49ef-a6b6-fa7d70262c3f"
      },
      "source": [
        "# write your answer here\n",
        "myset = set([-2,4,-6,20,-60,54.4,0])\n",
        "print(max(myset)) #for maximum\n",
        "print(min(myset)) #for minimum"
      ],
      "execution_count": null,
      "outputs": [
        {
          "output_type": "stream",
          "name": "stdout",
          "text": [
            "54.4\n",
            "-60\n"
          ]
        }
      ]
    },
    {
      "cell_type": "markdown",
      "metadata": {
        "id": "uHkd-y5VhVWC"
      },
      "source": [
        "(9) Write a Python program to randomly divide the students in this class into six groups for term projects, each group should have at least 4 students but no more than 6 students (including 6). Here is the students list: (4 points)\n",
        "\n",
        "studnet_list = ['vmb0067','pc0353','snd0097','yye0005','sg0940','bk0301','rak0120','rrk0058','spk0057','vl0135','nm0547','pn0159',\n",
        "           'msp0174','dd0420','ds0761','rs0850','ss1995','at0739','at0768','mv0299','tv0119','dy0091','py0080','ttp0037','hc0439','ri0094','pk0339', 'hn0145','mn0426']"
      ]
    },
    {
      "cell_type": "code",
      "metadata": {
        "id": "3iGbmcOBhTwy",
        "colab": {
          "base_uri": "https://localhost:8080/"
        },
        "outputId": "fa725212-4668-4614-d220-5cc681690326"
      },
      "source": [
        "# write your answer here\n",
        "import random\n",
        "from itertools import islice\n",
        "student_list = ['vmb0067','pc0353','snd0097','yye0005','sg0940','bk0301','rak0120','rrk0058','spk0057','vl0135','nm0547'\n",
        "                 ,'pn0159', 'msp0174','dd0420','ds0761','rs0850','ss1995','at0739','at0768','mv0299','tv0119','dy0091',\n",
        "                 'py0080','ttp0037','hc0439','ri0094','pk0339', 'hn0145','mn0426']\n",
        "\n",
        "group_len = []\n",
        "for i in range(5):\n",
        "    group_len.append(random.randint(4,6))\n",
        "random.shuffle(student_list)\n",
        "# Using islice\n",
        "iterate_List = iter(student_list)\n",
        "group_list = [list(islice(iterate_List, elem))\n",
        "          for elem in group_len]\n",
        "group_len, group_list\n"
      ],
      "execution_count": null,
      "outputs": [
        {
          "output_type": "execute_result",
          "data": {
            "text/plain": [
              "([4, 5, 4, 5, 5],\n",
              " [['spk0057', 'bk0301', 'nm0547', 'rrk0058'],\n",
              "  ['py0080', 'pn0159', 'tv0119', 'dd0420', 'sg0940'],\n",
              "  ['msp0174', 'vmb0067', 'rs0850', 'mv0299'],\n",
              "  ['at0739', 'ri0094', 'dy0091', 'pc0353', 'rak0120'],\n",
              "  ['hn0145', 'pk0339', 'ds0761', 'hc0439', 'vl0135']])"
            ]
          },
          "metadata": {},
          "execution_count": 21
        }
      ]
    },
    {
      "cell_type": "markdown",
      "metadata": {
        "id": "owz9bHEKuREk"
      },
      "source": [
        "(10) Write a Python program to find the duplicate elements in a given array of integers. Return -1 If there are no such elements. (4 points)"
      ]
    },
    {
      "cell_type": "code",
      "metadata": {
        "colab": {
          "base_uri": "https://localhost:8080/"
        },
        "id": "rjX7hw6-uREn",
        "outputId": "36679ff5-e2b0-465b-c11f-db02fb463ada"
      },
      "source": [
        "# write your answer here\n",
        "def dup(nums): #giving dup as function with nums as a parameter\n",
        "  number_set = set() \n",
        "  not_dup = -1 #if it is not duplicate then give -1\n",
        "\n",
        "  for i in range(len(nums)):\n",
        "\n",
        "    if nums[i] in number_set:\n",
        "      nums[i]\n",
        "      return nums[i]\n",
        "    else:\n",
        "      number_set.add(nums[i])\n",
        "      number_set\n",
        "\n",
        "  return not_dup\n",
        "  \n",
        "print(dup([20,32,45,2,32,46,50]))\n",
        "print(dup([1,2,3,4]))  \n",
        "print(dup([1,1,2,2,3,4,2]))"
      ],
      "execution_count": null,
      "outputs": [
        {
          "output_type": "stream",
          "name": "stdout",
          "text": [
            "32\n",
            "-1\n",
            "1\n"
          ]
        }
      ]
    },
    {
      "cell_type": "markdown",
      "metadata": {
        "id": "PN_0hb8AuREn"
      },
      "source": [
        "(11) Write a Python program to select all the Sundays of a specified year. (4 extra points)"
      ]
    },
    {
      "cell_type": "code",
      "metadata": {
        "colab": {
          "base_uri": "https://localhost:8080/"
        },
        "id": "i0smIDdhuREn",
        "outputId": "85766ea1-f3ba-461a-960c-f07b6f18c0b8"
      },
      "source": [
        "# write your answer here\n",
        "from datetime import date #importing datetime module\n",
        "import calendar \n",
        "Year = 2021 #mentioning the specified year\n",
        "A = calendar.TextCalendar(calendar.SUNDAY) \n",
        "for b in range(1,13): #there are 12months so (1,13):indexing in python starts from 0\n",
        "    for k in A.itermonthdays(Year,b):\n",
        "        if k!=0:\n",
        "            day=date(Year,b,k)\n",
        "            if day.weekday()==6: #As there are 7days in a week ,index for sunday be 6,so only if it is 6 then we are setting the condition to print\n",
        "                print(\"%s,%d-%d-%d\" % (calendar.day_name[6] ,k,b,Year))\n",
        "\n"
      ],
      "execution_count": null,
      "outputs": [
        {
          "output_type": "stream",
          "name": "stdout",
          "text": [
            "Sunday,3-1-2021\n",
            "Sunday,10-1-2021\n",
            "Sunday,17-1-2021\n",
            "Sunday,24-1-2021\n",
            "Sunday,31-1-2021\n",
            "Sunday,7-2-2021\n",
            "Sunday,14-2-2021\n",
            "Sunday,21-2-2021\n",
            "Sunday,28-2-2021\n",
            "Sunday,7-3-2021\n",
            "Sunday,14-3-2021\n",
            "Sunday,21-3-2021\n",
            "Sunday,28-3-2021\n",
            "Sunday,4-4-2021\n",
            "Sunday,11-4-2021\n",
            "Sunday,18-4-2021\n",
            "Sunday,25-4-2021\n",
            "Sunday,2-5-2021\n",
            "Sunday,9-5-2021\n",
            "Sunday,16-5-2021\n",
            "Sunday,23-5-2021\n",
            "Sunday,30-5-2021\n",
            "Sunday,6-6-2021\n",
            "Sunday,13-6-2021\n",
            "Sunday,20-6-2021\n",
            "Sunday,27-6-2021\n",
            "Sunday,4-7-2021\n",
            "Sunday,11-7-2021\n",
            "Sunday,18-7-2021\n",
            "Sunday,25-7-2021\n",
            "Sunday,1-8-2021\n",
            "Sunday,8-8-2021\n",
            "Sunday,15-8-2021\n",
            "Sunday,22-8-2021\n",
            "Sunday,29-8-2021\n",
            "Sunday,5-9-2021\n",
            "Sunday,12-9-2021\n",
            "Sunday,19-9-2021\n",
            "Sunday,26-9-2021\n",
            "Sunday,3-10-2021\n",
            "Sunday,10-10-2021\n",
            "Sunday,17-10-2021\n",
            "Sunday,24-10-2021\n",
            "Sunday,31-10-2021\n",
            "Sunday,7-11-2021\n",
            "Sunday,14-11-2021\n",
            "Sunday,21-11-2021\n",
            "Sunday,28-11-2021\n",
            "Sunday,5-12-2021\n",
            "Sunday,12-12-2021\n",
            "Sunday,19-12-2021\n",
            "Sunday,26-12-2021\n"
          ]
        }
      ]
    }
  ]
}