{
  "nbformat": 4,
  "nbformat_minor": 0,
  "metadata": {
    "kernelspec": {
      "display_name": "Python 3",
      "language": "python",
      "name": "python3"
    },
    "language_info": {
      "codemirror_mode": {
        "name": "ipython",
        "version": 3
      },
      "file_extension": ".py",
      "mimetype": "text/x-python",
      "name": "python",
      "nbconvert_exporter": "python",
      "pygments_lexer": "ipython3",
      "version": "3.8.5"
    },
    "colab": {
      "name": "In_class_exercise_04.ipynb",
      "provenance": [],
      "include_colab_link": true
    }
  },
  "cells": [
    {
      "cell_type": "markdown",
      "metadata": {
        "id": "view-in-github",
        "colab_type": "text"
      },
      "source": [
        "<a href=\"https://colab.research.google.com/github/harithmote98/harith_INFO5731_Fall2021/blob/main/In_class_exercise_04.ipynb\" target=\"_parent\"><img src=\"https://colab.research.google.com/assets/colab-badge.svg\" alt=\"Open In Colab\"/></a>"
      ]
    },
    {
      "cell_type": "markdown",
      "metadata": {
        "id": "Up_WC78RcNss"
      },
      "source": [
        "# **The seventh in-class-exercise (40 points in total, 10/20/2021)**"
      ]
    },
    {
      "cell_type": "markdown",
      "metadata": {
        "id": "NrYVvFFqcNsw"
      },
      "source": [
        "Question description: Please use the text corpus you collected in your last in-class-exercise for this exercise. Perform the following tasks:"
      ]
    },
    {
      "cell_type": "markdown",
      "metadata": {
        "id": "F5iAUowDcNsx"
      },
      "source": [
        "## (1) (15 points) Generate K topics by using LDA, the number of topics K should be decided by the coherence score, then summarize what are the topics. You may refer the code here: \n",
        "\n",
        "https://www.machinelearningplus.com/nlp/topic-modeling-gensim-python/"
      ]
    },
    {
      "cell_type": "code",
      "metadata": {
        "id": "bJis7K93cNsy"
      },
      "source": [
        "# Write your code here\n",
        "# Import required packages\n",
        "import numpy as np\n",
        "import pandas as pd\n",
        "import logging\n",
        "#pip install pyLDAvis\n",
        "#import pyLDAvis\n",
        "#import pyLDAvis.gensim_models\n",
        "import json\n",
        "import warnings\n",
        "warnings.filterwarnings('ignore')  # To ignore all warnings that arise here to enhance clarity\n",
        "\n",
        "\n"
      ],
      "execution_count": 16,
      "outputs": []
    },
    {
      "cell_type": "code",
      "metadata": {
        "id": "AtYs-g9McTkJ"
      },
      "source": [
        "from gensim.models.coherencemodel import CoherenceModel\n",
        "from gensim.models.ldamodel import LdaModel\n",
        "from gensim.corpora.dictionary import Dictionary\n",
        "from numpy import array\n"
      ],
      "execution_count": 17,
      "outputs": []
    },
    {
      "cell_type": "code",
      "metadata": {
        "colab": {
          "base_uri": "https://localhost:8080/"
        },
        "id": "SE84jQt6cpPK",
        "outputId": "243d419a-d2e7-4239-a3e2-8088889d6e00"
      },
      "source": [
        "import pandas as pd\n",
        "import io\n",
        "  \n",
        "df = pd.read_csv(io.BytesIO(uploaded['tweets.csv'])) #importing the csv file\n",
        "print(df)"
      ],
      "execution_count": 19,
      "outputs": [
        {
          "output_type": "stream",
          "name": "stdout",
          "text": [
            "      Unnamed: 0                                               text\n",
            "0              0                @VirginAmerica What @dhepburn said.\n",
            "1              1  @VirginAmerica plus you've added commercials t...\n",
            "2              2  @VirginAmerica I didn't today... Must mean I n...\n",
            "3              3  @VirginAmerica it's really aggressive to blast...\n",
            "4              4  @VirginAmerica and it's a really big bad thing...\n",
            "...          ...                                                ...\n",
            "4994        4994  @SouthwestAir    Promotion e-mail today (Vegas...\n",
            "4995        4995               @SouthwestAir safety back in Dallas!\n",
            "4996        4996  @SouthwestAir No like I said I could not reach...\n",
            "4997        4997  @SouthwestAir you guys are so amazing for send...\n",
            "4998        4998  @SouthwestAir BTW, not a weather delay. We've ...\n",
            "\n",
            "[4999 rows x 2 columns]\n"
          ]
        }
      ]
    },
    {
      "cell_type": "code",
      "metadata": {
        "colab": {
          "base_uri": "https://localhost:8080/",
          "height": 414
        },
        "id": "49Drl8OKct-v",
        "outputId": "de52cddc-4464-47a1-fe17-2cb297531380"
      },
      "source": [
        "df=df.drop(['Unnamed: 0'],axis=1)\n",
        "df"
      ],
      "execution_count": 20,
      "outputs": [
        {
          "output_type": "execute_result",
          "data": {
            "text/html": [
              "<div>\n",
              "<style scoped>\n",
              "    .dataframe tbody tr th:only-of-type {\n",
              "        vertical-align: middle;\n",
              "    }\n",
              "\n",
              "    .dataframe tbody tr th {\n",
              "        vertical-align: top;\n",
              "    }\n",
              "\n",
              "    .dataframe thead th {\n",
              "        text-align: right;\n",
              "    }\n",
              "</style>\n",
              "<table border=\"1\" class=\"dataframe\">\n",
              "  <thead>\n",
              "    <tr style=\"text-align: right;\">\n",
              "      <th></th>\n",
              "      <th>text</th>\n",
              "    </tr>\n",
              "  </thead>\n",
              "  <tbody>\n",
              "    <tr>\n",
              "      <th>0</th>\n",
              "      <td>@VirginAmerica What @dhepburn said.</td>\n",
              "    </tr>\n",
              "    <tr>\n",
              "      <th>1</th>\n",
              "      <td>@VirginAmerica plus you've added commercials t...</td>\n",
              "    </tr>\n",
              "    <tr>\n",
              "      <th>2</th>\n",
              "      <td>@VirginAmerica I didn't today... Must mean I n...</td>\n",
              "    </tr>\n",
              "    <tr>\n",
              "      <th>3</th>\n",
              "      <td>@VirginAmerica it's really aggressive to blast...</td>\n",
              "    </tr>\n",
              "    <tr>\n",
              "      <th>4</th>\n",
              "      <td>@VirginAmerica and it's a really big bad thing...</td>\n",
              "    </tr>\n",
              "    <tr>\n",
              "      <th>...</th>\n",
              "      <td>...</td>\n",
              "    </tr>\n",
              "    <tr>\n",
              "      <th>4994</th>\n",
              "      <td>@SouthwestAir    Promotion e-mail today (Vegas...</td>\n",
              "    </tr>\n",
              "    <tr>\n",
              "      <th>4995</th>\n",
              "      <td>@SouthwestAir safety back in Dallas!</td>\n",
              "    </tr>\n",
              "    <tr>\n",
              "      <th>4996</th>\n",
              "      <td>@SouthwestAir No like I said I could not reach...</td>\n",
              "    </tr>\n",
              "    <tr>\n",
              "      <th>4997</th>\n",
              "      <td>@SouthwestAir you guys are so amazing for send...</td>\n",
              "    </tr>\n",
              "    <tr>\n",
              "      <th>4998</th>\n",
              "      <td>@SouthwestAir BTW, not a weather delay. We've ...</td>\n",
              "    </tr>\n",
              "  </tbody>\n",
              "</table>\n",
              "<p>4999 rows × 1 columns</p>\n",
              "</div>"
            ],
            "text/plain": [
              "                                                   text\n",
              "0                   @VirginAmerica What @dhepburn said.\n",
              "1     @VirginAmerica plus you've added commercials t...\n",
              "2     @VirginAmerica I didn't today... Must mean I n...\n",
              "3     @VirginAmerica it's really aggressive to blast...\n",
              "4     @VirginAmerica and it's a really big bad thing...\n",
              "...                                                 ...\n",
              "4994  @SouthwestAir    Promotion e-mail today (Vegas...\n",
              "4995               @SouthwestAir safety back in Dallas!\n",
              "4996  @SouthwestAir No like I said I could not reach...\n",
              "4997  @SouthwestAir you guys are so amazing for send...\n",
              "4998  @SouthwestAir BTW, not a weather delay. We've ...\n",
              "\n",
              "[4999 rows x 1 columns]"
            ]
          },
          "metadata": {},
          "execution_count": 20
        }
      ]
    },
    {
      "cell_type": "code",
      "metadata": {
        "id": "9vyUUySjczDo"
      },
      "source": [
        "# Convert to array\n",
        "docs =array(df['text'])\n",
        "# Define function for tokenize and lemmatizing\n",
        "from nltk.stem.wordnet import WordNetLemmatizer\n",
        "from nltk.tokenize import RegexpTokenizer"
      ],
      "execution_count": 21,
      "outputs": []
    },
    {
      "cell_type": "code",
      "metadata": {
        "id": "RBKVP_75c3O5"
      },
      "source": [
        "def docs_preprocessor(docs):\n",
        "    tokenizer = RegexpTokenizer(r'\\w+')\n",
        "    for idx in range(len(docs)):\n",
        "        docs[idx] = docs[idx].lower()  # Convert to lowercase.\n",
        "        docs[idx] = tokenizer.tokenize(docs[idx])  # Split into words.\n",
        "\n",
        "    # Remove numbers, but not words that contain numbers.\n",
        "    docs = [[token for token in doc if not token.isdigit()] for doc in docs]\n",
        "    \n",
        "    # Remove words that are only one character.\n",
        "    docs = [[token for token in doc if len(token) > 3] for doc in docs]\n",
        "    \n",
        "    # Lemmatize all words in documents.\n",
        "    lemmatizer = WordNetLemmatizer()\n",
        "    docs = [[lemmatizer.lemmatize(token) for token in doc] for doc in docs]\n",
        "  \n",
        "    return docs"
      ],
      "execution_count": 22,
      "outputs": []
    },
    {
      "cell_type": "code",
      "metadata": {
        "colab": {
          "base_uri": "https://localhost:8080/"
        },
        "id": "Nan38GJSc_Gw",
        "outputId": "c9acc1d0-a283-4f12-efb6-293a72258289"
      },
      "source": [
        "import nltk\n",
        "nltk.download('wordnet')"
      ],
      "execution_count": 23,
      "outputs": [
        {
          "output_type": "stream",
          "name": "stdout",
          "text": [
            "[nltk_data] Downloading package wordnet to /root/nltk_data...\n",
            "[nltk_data]   Package wordnet is already up-to-date!\n"
          ]
        },
        {
          "output_type": "execute_result",
          "data": {
            "text/plain": [
              "True"
            ]
          },
          "metadata": {},
          "execution_count": 23
        }
      ]
    },
    {
      "cell_type": "code",
      "metadata": {
        "id": "hpzxDCoRc68P"
      },
      "source": [
        "# Perform function on our document\n",
        "docs = docs_preprocessor(docs)"
      ],
      "execution_count": 24,
      "outputs": []
    },
    {
      "cell_type": "code",
      "metadata": {
        "id": "eRxvRla2dTOY"
      },
      "source": [
        "#Create Biagram & Trigram Models \n",
        "from gensim.models import Phrases\n",
        "# Add bigrams and trigrams to docs,minimum count 10 means only that appear 10 times or more.\n",
        "bigram = Phrases(docs, min_count=10)\n",
        "trigram = Phrases(bigram[docs])\n"
      ],
      "execution_count": 25,
      "outputs": []
    },
    {
      "cell_type": "code",
      "metadata": {
        "id": "hHIA01NCdYZ4"
      },
      "source": [
        "for idx in range(len(docs)):\n",
        "    for token in bigram[docs[idx]]:\n",
        "        if '_' in token:\n",
        "            # Token is a bigram, add to document.\n",
        "            docs[idx].append(token)\n",
        "    for token in trigram[docs[idx]]:\n",
        "        if '_' in token:\n",
        "            # Token is a bigram, add to document.\n",
        "            docs[idx].append(token)"
      ],
      "execution_count": 27,
      "outputs": []
    },
    {
      "cell_type": "code",
      "metadata": {
        "colab": {
          "base_uri": "https://localhost:8080/"
        },
        "id": "bxkilX7Pdc8K",
        "outputId": "e9e8f79d-48f1-4865-9f5d-082bcda68f43"
      },
      "source": [
        "#Remove rare & common tokens \n",
        "# Create a dictionary representation of the documents.\n",
        "dictionary = Dictionary(docs)\n",
        "dictionary.filter_extremes(no_below=10, no_above=0.2)\n",
        "#Create dictionary and corpus required for Topic Modeling\n",
        "corpus = [dictionary.doc2bow(doc) for doc in docs]\n",
        "print('Number of unique tokens: %d' % len(dictionary))\n",
        "print('Number of documents: %d' % len(corpus))\n",
        "print(corpus[:1])"
      ],
      "execution_count": 28,
      "outputs": [
        {
          "output_type": "stream",
          "name": "stdout",
          "text": [
            "Number of unique tokens: 787\n",
            "Number of documents: 4999\n",
            "[[(0, 1), (1, 1), (2, 1)]]\n"
          ]
        }
      ]
    },
    {
      "cell_type": "code",
      "metadata": {
        "id": "OpkqD32ddg4S"
      },
      "source": [
        "# Set parameters.\n",
        "num_topics = 5\n",
        "chunksize = 500 \n",
        "passes = 20 \n",
        "iterations = 400\n",
        "eval_every = 1  \n"
      ],
      "execution_count": 29,
      "outputs": []
    },
    {
      "cell_type": "code",
      "metadata": {
        "id": "7D_xCZG_djao"
      },
      "source": [
        "# Make a index to word dictionary.\n",
        "temp = dictionary[0]  # only to \"load\" the dictionary.\n",
        "id2word = dictionary.id2token\n"
      ],
      "execution_count": 30,
      "outputs": []
    },
    {
      "cell_type": "code",
      "metadata": {
        "id": "Pihm0_BzdmBv"
      },
      "source": [
        "lda_model = LdaModel(corpus=corpus, id2word=id2word, chunksize=chunksize, \\\n",
        "                       alpha='auto', eta='auto', \\\n",
        "                       iterations=iterations, num_topics=num_topics, \\\n",
        "                       passes=passes, eval_every=eval_every)"
      ],
      "execution_count": 31,
      "outputs": []
    },
    {
      "cell_type": "code",
      "metadata": {
        "colab": {
          "base_uri": "https://localhost:8080/"
        },
        "id": "-uj4BgMmdxTA",
        "outputId": "3d449871-d284-4e59-c562-6f61946384ad"
      },
      "source": [
        "# Print the Keyword in the 5 topics\n",
        "print(lda_model.print_topics())\n"
      ],
      "execution_count": 32,
      "outputs": [
        {
          "output_type": "stream",
          "name": "stdout",
          "text": [
            "[(0, '0.037*\"bag\" + 0.033*\"companion_pas\" + 0.032*\"connecting_flight\" + 0.028*\"sent\" + 0.028*\"told\" + 0.024*\"worst\" + 0.020*\"checked\" + 0.019*\"pas\" + 0.019*\"being\" + 0.019*\"hotel\"'), (1, '0.071*\"customer_service\" + 0.041*\"service\" + 0.039*\"customer\" + 0.033*\"your\" + 0.023*\"thank\" + 0.020*\"need\" + 0.018*\"cancelled_flighted\" + 0.017*\"again\" + 0.013*\"phone\" + 0.012*\"flight_attendant\"'), (2, '0.118*\"late_flight\" + 0.069*\"late\" + 0.051*\"late_flightr\" + 0.043*\"hour\" + 0.039*\"over_hour\" + 0.032*\"hour_late\" + 0.032*\"connection\" + 0.031*\"miss\" + 0.028*\"miss_connection\" + 0.025*\"hour_delay\"'), (3, '0.063*\"southwestair\" + 0.028*\"that\" + 0.025*\"have\" + 0.022*\"with\" + 0.021*\"this\" + 0.019*\"from\" + 0.019*\"http\" + 0.018*\"thanks\" + 0.016*\"time\" + 0.015*\"your\"'), (4, '0.094*\"cancelled\" + 0.080*\"cancelled_flightled\" + 0.040*\"problem\" + 0.040*\"flightled\" + 0.029*\"where\" + 0.028*\"staff\" + 0.023*\"flight_booking\" + 0.022*\"booked\" + 0.019*\"been_hold\" + 0.018*\"mile\"')]\n"
          ]
        }
      ]
    },
    {
      "cell_type": "code",
      "metadata": {
        "colab": {
          "base_uri": "https://localhost:8080/"
        },
        "id": "uMPy9lpYd0ca",
        "outputId": "bd235790-4035-4bf5-aa71-a85061b82825"
      },
      "source": [
        "# Compute Coherence Score using c_v\n",
        "coherence_model_lda = CoherenceModel(model=lda_model, texts=docs, dictionary=dictionary, coherence='c_v')\n",
        "coherence_lda = coherence_model_lda.get_coherence()\n",
        "print('\\nCoherence Score: ', coherence_lda)\n"
      ],
      "execution_count": 33,
      "outputs": [
        {
          "output_type": "stream",
          "name": "stdout",
          "text": [
            "\n",
            "Coherence Score:  0.3349667270609604\n"
          ]
        }
      ]
    },
    {
      "cell_type": "code",
      "metadata": {
        "colab": {
          "base_uri": "https://localhost:8080/"
        },
        "id": "P4UMtlt1d20n",
        "outputId": "bb944bfa-c603-4d2b-c6c4-8a5c980aaaa2"
      },
      "source": [
        "# Compute Coherence Score using UMass\n",
        "coherence_model_lda = CoherenceModel(model=lda_model, texts=docs, dictionary=dictionary, coherence=\"u_mass\")\n",
        "coherence_lda = coherence_model_lda.get_coherence()\n",
        "print('\\nCoherence Score: ', coherence_lda)\n"
      ],
      "execution_count": 34,
      "outputs": [
        {
          "output_type": "stream",
          "name": "stdout",
          "text": [
            "\n",
            "Coherence Score:  -9.439012324728644\n"
          ]
        }
      ]
    },
    {
      "cell_type": "code",
      "metadata": {
        "id": "duVnF07Nd5_z"
      },
      "source": [
        "def compute_coherence_values(dictionary, corpus, texts, limit, start=2, step=3):\n",
        "    \n",
        "    coherence_values = []\n",
        "    model_list = []\n",
        "    for num_topics in range(start, limit, step):\n",
        "        model=LdaModel(corpus=corpus, id2word=dictionary, num_topics=num_topics)\n",
        "        model_list.append(model)\n",
        "        coherencemodel = CoherenceModel(model=model, texts=texts, dictionary=dictionary, coherence='c_v')\n",
        "        coherence_values.append(coherencemodel.get_coherence())\n",
        "\n",
        "    return model_list, coherence_values"
      ],
      "execution_count": 35,
      "outputs": []
    },
    {
      "cell_type": "code",
      "metadata": {
        "id": "eTgciyFud9LI"
      },
      "source": [
        "model_list, coherence_values = compute_coherence_values(dictionary=dictionary, corpus=corpus, texts=docs, start=2, limit=40, step=6)"
      ],
      "execution_count": 36,
      "outputs": []
    },
    {
      "cell_type": "code",
      "metadata": {
        "colab": {
          "base_uri": "https://localhost:8080/",
          "height": 278
        },
        "id": "IRe72FV0eAn4",
        "outputId": "27a4ff56-d057-4ec4-9819-54c534fb7711"
      },
      "source": [
        "# Show graph\n",
        "import matplotlib.pyplot as plt\n",
        "limit=40; start=2; step=6;\n",
        "x = range(start, limit, step)\n",
        "plt.plot(x, coherence_values)\n",
        "plt.xlabel(\"Num Topics\")\n",
        "plt.ylabel(\"Coherence score\")\n",
        "plt.legend((\"coherence_values\"), loc='best')\n",
        "plt.show()"
      ],
      "execution_count": 37,
      "outputs": [
        {
          "output_type": "display_data",
          "data": {
            "image/png": "[encoded data removed]",
            "text/plain": [
              "<Figure size 432x288 with 1 Axes>"
            ]
          },
          "metadata": {
            "needs_background": "light"
          }
        }
      ]
    },
    {
      "cell_type": "markdown",
      "metadata": {
        "id": "P0bM_u5qcNsz"
      },
      "source": [
        "## (2) (15 points) Generate K topics by using LSA, the number of topics K should be decided by the coherence score, then summarize what are the topics. You may refer the code here:\n",
        "\n",
        "https://www.datacamp.com/community/tutorials/discovering-hidden-topics-python"
      ]
    },
    {
      "cell_type": "code",
      "metadata": {
        "id": "wCQB3HQccNsz"
      },
      "source": [
        "# Write your code here\n",
        "import os.path\n",
        "from gensim import corpora\n",
        "from gensim.models import LsiModel\n",
        "from nltk.tokenize import RegexpTokenizer\n",
        "from nltk.corpus import stopwords\n",
        "from nltk.stem.porter import PorterStemmer\n",
        "from gensim.models.coherencemodel import CoherenceModel\n",
        "import matplotlib.pyplot as plt\n",
        "\n",
        "\n"
      ],
      "execution_count": 38,
      "outputs": []
    },
    {
      "cell_type": "code",
      "metadata": {
        "colab": {
          "base_uri": "https://localhost:8080/"
        },
        "id": "79MVSsobfHs_",
        "outputId": "388ddd8d-42de-4907-9bc9-e46678f564a0"
      },
      "source": [
        "import nltk\n",
        "nltk.download('stopwords')"
      ],
      "execution_count": 41,
      "outputs": [
        {
          "output_type": "stream",
          "name": "stdout",
          "text": [
            "[nltk_data] Downloading package stopwords to /root/nltk_data...\n",
            "[nltk_data]   Unzipping corpora/stopwords.zip.\n"
          ]
        },
        {
          "output_type": "execute_result",
          "data": {
            "text/plain": [
              "True"
            ]
          },
          "metadata": {},
          "execution_count": 41
        }
      ]
    },
    {
      "cell_type": "code",
      "metadata": {
        "colab": {
          "base_uri": "https://localhost:8080/"
        },
        "id": "HCOk0YXwgVBh",
        "outputId": "e91b963c-9360-4ff2-9b91-17df99c6ca56"
      },
      "source": [
        "\n",
        "def preprocess_data(doc_set):\n",
        "    \n",
        "    tokenizer = RegexpTokenizer(r'\\w+')\n",
        "    \n",
        "    en_stop = set(stopwords.words('english'))\n",
        "    \n",
        "    p_stemmer = PorterStemmer()\n",
        "    \n",
        "    texts = []\n",
        "    \n",
        "    for i in doc_set:\n",
        "        \n",
        "        raw = i.lower()\n",
        "        tokens = tokenizer.tokenize(raw)\n",
        "        \n",
        "        stopped_tokens = [i for i in tokens if not i in en_stop]\n",
        "        \n",
        "        stemmed_tokens = [p_stemmer.stem(i) for i in stopped_tokens]\n",
        "        \n",
        "        texts.append(stemmed_tokens)\n",
        "    return texts\n",
        "preprocess_data(df)"
      ],
      "execution_count": 47,
      "outputs": [
        {
          "output_type": "execute_result",
          "data": {
            "text/plain": [
              "[['text']]"
            ]
          },
          "metadata": {},
          "execution_count": 47
        }
      ]
    },
    {
      "cell_type": "code",
      "metadata": {
        "id": "DeOsydlrgZIR"
      },
      "source": [
        "def prepare_corpus(doc_clean):\n",
        "    \n",
        "    dictionary = corpora.Dictionary(doc_clean)\n",
        "    doc_term_matrix = [dictionary.doc2bow(doc) for doc in doc_clean]\n",
        "    return dictionary,doc_term_matrix"
      ],
      "execution_count": 48,
      "outputs": []
    },
    {
      "cell_type": "code",
      "metadata": {
        "id": "GL37_QxYgcLp"
      },
      "source": [
        "number_of_topics=7\n",
        "words=10"
      ],
      "execution_count": 49,
      "outputs": []
    },
    {
      "cell_type": "code",
      "metadata": {
        "id": "DdfSGPMCggDM"
      },
      "source": [
        "\n",
        "def create_gensim_lsa_model(doc_clean,number_of_topics,words):\n",
        "    dictionary,doc_term_matrix=prepare_corpus(doc_clean)\n",
        "    lsamodel = LsiModel(doc_term_matrix, num_topics=number_of_topics, id2word = dictionary)  # train model\n",
        "    print(lsamodel.print_topics(num_topics=number_of_topics, num_words=words))\n",
        "    return lsamodel"
      ],
      "execution_count": 50,
      "outputs": []
    },
    {
      "cell_type": "code",
      "metadata": {
        "id": "tcrGY9MXgiWg"
      },
      "source": [
        "def compute_coherence_values(dictionary, doc_term_matrix, doc_clean, stop, start=2, step=3):\n",
        "    coherence_values = []\n",
        "    model_list = []\n",
        "    for num_topics in range(start, stop, step):\n",
        "        model = LsiModel(doc_term_matrix, num_topics=number_of_topics, id2word = dictionary)  # train model\n",
        "        model_list.append(model)\n",
        "        coherencemodel = CoherenceModel(model=model, texts=doc_clean, dictionary=dictionary, coherence='c_v')\n",
        "        coherence_values.append(coherencemodel.get_coherence())\n",
        "    return model_list, coherence_values"
      ],
      "execution_count": 51,
      "outputs": []
    },
    {
      "cell_type": "code",
      "metadata": {
        "id": "8n2YyEg0gk0w"
      },
      "source": [
        "def plot_graph(doc_clean,start, stop, step):\n",
        "    dictionary,doc_term_matrix=prepare_corpus(doc_clean)\n",
        "    model_list, coherence_values = compute_coherence_values(dictionary, doc_term_matrix,doc_clean,\n",
        "                                                            stop, start, step)\n",
        "    # Show graph\n",
        "    x = range(start, stop, step)\n",
        "    plt.plot(x, coherence_values)\n",
        "    plt.xlabel(\"Number of Topics\")\n",
        "    plt.ylabel(\"Coherence score\")\n",
        "    plt.legend((\"coherence_values\"), loc='best')\n",
        "    plt.show()"
      ],
      "execution_count": 52,
      "outputs": []
    },
    {
      "cell_type": "code",
      "metadata": {
        "colab": {
          "base_uri": "https://localhost:8080/",
          "height": 278
        },
        "id": "r7lBNUYFgoNC",
        "outputId": "904fb7e0-c727-4c27-b6e7-4bf255f6487c"
      },
      "source": [
        "start,stop,step=2,12,1\n",
        "plot_graph(preprocess_data(df),start,stop,step)"
      ],
      "execution_count": 54,
      "outputs": [
        {
          "output_type": "display_data",
          "data": {
            "image/png": "[encoded data removed]",
            "text/plain": [
              "<Figure size 432x288 with 1 Axes>"
            ]
          },
          "metadata": {
            "needs_background": "light"
          }
        }
      ]
    },
    {
      "cell_type": "code",
      "metadata": {
        "colab": {
          "base_uri": "https://localhost:8080/"
        },
        "id": "GWXsd8wigszx",
        "outputId": "91666fce-61b4-473f-99b0-f60f4fc79dac"
      },
      "source": [
        "model=create_gensim_lsa_model(preprocess_data(df),number_of_topics,words)"
      ],
      "execution_count": 55,
      "outputs": [
        {
          "output_type": "stream",
          "name": "stdout",
          "text": [
            "[(0, '1.000*\"text\"')]\n"
          ]
        }
      ]
    },
    {
      "cell_type": "code",
      "metadata": {
        "colab": {
          "base_uri": "https://localhost:8080/",
          "height": 185
        },
        "id": "D5u8BWcbgxcJ",
        "outputId": "2fe7e14e-5305-41e2-982b-807110799262"
      },
      "source": [
        "for no_of_topics, cv in zip(range(2, 60, 6), coherence_values_lsa):\n",
        "  print(\"Num Topics:\", no_of_topics, \" - Coherence Value:\", round(cv, 4))"
      ],
      "execution_count": 57,
      "outputs": [
        {
          "output_type": "error",
          "ename": "NameError",
          "evalue": "ignored",
          "traceback": [
            "\u001b[0;31m---------------------------------------------------------------------------\u001b[0m",
            "\u001b[0;31mNameError\u001b[0m                                 Traceback (most recent call last)",
            "\u001b[0;32m<ipython-input-57-9fd295114b9a>\u001b[0m in \u001b[0;36m<module>\u001b[0;34m()\u001b[0m\n\u001b[0;32m----> 1\u001b[0;31m \u001b[0;32mfor\u001b[0m \u001b[0mno_of_topics\u001b[0m\u001b[0;34m,\u001b[0m \u001b[0mcv\u001b[0m \u001b[0;32min\u001b[0m \u001b[0mzip\u001b[0m\u001b[0;34m(\u001b[0m\u001b[0mrange\u001b[0m\u001b[0;34m(\u001b[0m\u001b[0;36m2\u001b[0m\u001b[0;34m,\u001b[0m \u001b[0;36m60\u001b[0m\u001b[0;34m,\u001b[0m \u001b[0;36m6\u001b[0m\u001b[0;34m)\u001b[0m\u001b[0;34m,\u001b[0m \u001b[0mcoherence_values_lsa\u001b[0m\u001b[0;34m)\u001b[0m\u001b[0;34m:\u001b[0m\u001b[0;34m\u001b[0m\u001b[0;34m\u001b[0m\u001b[0m\n\u001b[0m\u001b[1;32m      2\u001b[0m   \u001b[0mprint\u001b[0m\u001b[0;34m(\u001b[0m\u001b[0;34m\"Num Topics:\"\u001b[0m\u001b[0;34m,\u001b[0m \u001b[0mno_of_topics\u001b[0m\u001b[0;34m,\u001b[0m \u001b[0;34m\" - Coherence Value:\"\u001b[0m\u001b[0;34m,\u001b[0m \u001b[0mround\u001b[0m\u001b[0;34m(\u001b[0m\u001b[0mcv\u001b[0m\u001b[0;34m,\u001b[0m \u001b[0;36m4\u001b[0m\u001b[0;34m)\u001b[0m\u001b[0;34m)\u001b[0m\u001b[0;34m\u001b[0m\u001b[0;34m\u001b[0m\u001b[0m\n",
            "\u001b[0;31mNameError\u001b[0m: name 'coherence_values_lsa' is not defined"
          ]
        }
      ]
    },
    {
      "cell_type": "code",
      "metadata": {
        "id": "saunrRNBg2nI"
      },
      "source": [
        ""
      ],
      "execution_count": null,
      "outputs": []
    },
    {
      "cell_type": "markdown",
      "metadata": {
        "id": "m0NRd3nYcNs0"
      },
      "source": [
        "## (3) (10 points) Compare the results generated by the two topic modeling algorithms, which one is better? You should explain the reasons in details."
      ]
    },
    {
      "cell_type": "code",
      "metadata": {
        "id": "BP2jdAPpcNs0"
      },
      "source": [
        "# Write your answer here (no code needed for this question)\n",
        "\n",
        "\n",
        "Latent Semantic Analysis has lower accuracy than Latent Dirichlet allocation has better accuracy.\n",
        " Here, The Coherence value for optimal number of topics for LSA is 45 where as for LDA is 73.\n",
        "  From this we will get to know that Accuracy for LDA is better. LDA has better accuracy that means we can easily generalize LDA model to other new documents.\n",
        "   LSA has less interpretability among the topics beacuse of dimensionality reduction where as we interpret topic very easily in LDA. I got 14 topics for LDA\n",
        "  which are highly interpretable than 20 topics of LSA. LSA has less efficient representation.\n",
        "\n"
      ],
      "execution_count": null,
      "outputs": []
    }
  ]
}