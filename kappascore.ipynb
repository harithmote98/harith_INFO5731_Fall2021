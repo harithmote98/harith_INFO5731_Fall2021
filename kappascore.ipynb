{
  "nbformat": 4,
  "nbformat_minor": 0,
  "metadata": {
    "colab": {
      "name": "Untitled5.ipynb",
      "provenance": [],
      "authorship_tag": "ABX9TyMiJ66Xtevq03u6iNCvd2r4",
      "include_colab_link": true
    },
    "kernelspec": {
      "name": "python3",
      "display_name": "Python 3"
    },
    "language_info": {
      "name": "python"
    }
  },
  "cells": [
    {
      "cell_type": "markdown",
      "metadata": {
        "id": "view-in-github",
        "colab_type": "text"
      },
      "source": [
        "<a href=\"https://colab.research.google.com/github/harithmote98/harith_INFO5731_Fall2021/blob/main/kappascore.ipynb\" target=\"_parent\"><img src=\"https://colab.research.google.com/assets/colab-badge.svg\" alt=\"Open In Colab\"/></a>"
      ]
    },
    {
      "cell_type": "markdown",
      "source": [
        "Importing required packages"
      ],
      "metadata": {
        "id": "iM2pnTL5NO9v"
      }
    },
    {
      "cell_type": "code",
      "execution_count": 1,
      "metadata": {
        "id": "Wv011qZVMxuE"
      },
      "outputs": [],
      "source": [
        "import numpy as np\n",
        "import pandas as pd"
      ]
    },
    {
      "cell_type": "markdown",
      "source": [
        "Loading the dataset"
      ],
      "metadata": {
        "id": "H9XMbKOANVGo"
      }
    },
    {
      "cell_type": "code",
      "source": [
        "data = pd.read_csv(\"/content/PPTL.csv\")\n",
        "data"
      ],
      "metadata": {
        "colab": {
          "base_uri": "https://localhost:8080/",
          "height": 423
        },
        "id": "0C1jybjfM59h",
        "outputId": "66bb4635-d4d0-4ff5-9448-53bd2d91bcbe"
      },
      "execution_count": 3,
      "outputs": [
        {
          "output_type": "execute_result",
          "data": {
            "text/html": [
              "<div>\n",
              "<style scoped>\n",
              "    .dataframe tbody tr th:only-of-type {\n",
              "        vertical-align: middle;\n",
              "    }\n",
              "\n",
              "    .dataframe tbody tr th {\n",
              "        vertical-align: top;\n",
              "    }\n",
              "\n",
              "    .dataframe thead th {\n",
              "        text-align: right;\n",
              "    }\n",
              "</style>\n",
              "<table border=\"1\" class=\"dataframe\">\n",
              "  <thead>\n",
              "    <tr style=\"text-align: right;\">\n",
              "      <th></th>\n",
              "      <th>Concepts</th>\n",
              "      <th>Definition</th>\n",
              "      <th>CleanedTweet</th>\n",
              "      <th>Label1</th>\n",
              "      <th>Label2</th>\n",
              "      <th>Label3</th>\n",
              "      <th>Label4</th>\n",
              "      <th>Label5</th>\n",
              "      <th>Majority voting</th>\n",
              "    </tr>\n",
              "  </thead>\n",
              "  <tbody>\n",
              "    <tr>\n",
              "      <th>0</th>\n",
              "      <td>Acute myocardial infarction</td>\n",
              "      <td>Necrosis of the myocardium, as a result of int...</td>\n",
              "      <td>acute myocardial infarction is a blockage of b...</td>\n",
              "      <td>1</td>\n",
              "      <td>1</td>\n",
              "      <td>0</td>\n",
              "      <td>0</td>\n",
              "      <td>1</td>\n",
              "      <td>1</td>\n",
              "    </tr>\n",
              "    <tr>\n",
              "      <th>1</th>\n",
              "      <td>Acute myocardial infarction</td>\n",
              "      <td>Necrosis of the myocardium, as a result of int...</td>\n",
              "      <td>acutemyocardialinfarction is a pathology chara...</td>\n",
              "      <td>1</td>\n",
              "      <td>1</td>\n",
              "      <td>0</td>\n",
              "      <td>0</td>\n",
              "      <td>0</td>\n",
              "      <td>0</td>\n",
              "    </tr>\n",
              "    <tr>\n",
              "      <th>2</th>\n",
              "      <td>Acute myocardial infarction</td>\n",
              "      <td>Necrosis of the myocardium, as a result of int...</td>\n",
              "      <td>physical activity and anger or emotional upset...</td>\n",
              "      <td>1</td>\n",
              "      <td>1</td>\n",
              "      <td>1</td>\n",
              "      <td>0</td>\n",
              "      <td>1</td>\n",
              "      <td>1</td>\n",
              "    </tr>\n",
              "    <tr>\n",
              "      <th>3</th>\n",
              "      <td>Acute myocardial infarction</td>\n",
              "      <td>Necrosis of the myocardium, as a result of int...</td>\n",
              "      <td>thrombus composition in sudden cardiacdeath fr...</td>\n",
              "      <td>1</td>\n",
              "      <td>0</td>\n",
              "      <td>0</td>\n",
              "      <td>0</td>\n",
              "      <td>0</td>\n",
              "      <td>0</td>\n",
              "    </tr>\n",
              "    <tr>\n",
              "      <th>4</th>\n",
              "      <td>Acute myocardial infarction</td>\n",
              "      <td>Necrosis of the myocardium, as a result of int...</td>\n",
              "      <td>respiratoryinfection associated with increased...</td>\n",
              "      <td>1</td>\n",
              "      <td>1</td>\n",
              "      <td>1</td>\n",
              "      <td>0</td>\n",
              "      <td>0</td>\n",
              "      <td>1</td>\n",
              "    </tr>\n",
              "    <tr>\n",
              "      <th>...</th>\n",
              "      <td>...</td>\n",
              "      <td>...</td>\n",
              "      <td>...</td>\n",
              "      <td>...</td>\n",
              "      <td>...</td>\n",
              "      <td>...</td>\n",
              "      <td>...</td>\n",
              "      <td>...</td>\n",
              "      <td>...</td>\n",
              "    </tr>\n",
              "    <tr>\n",
              "      <th>3428</th>\n",
              "      <td>Pleurisy</td>\n",
              "      <td>\\ninflammation of the pleura, with exudation i...</td>\n",
              "      <td>lupusfact lupus can attack your lungs potenti...</td>\n",
              "      <td>1</td>\n",
              "      <td>1</td>\n",
              "      <td>0</td>\n",
              "      <td>0</td>\n",
              "      <td>1</td>\n",
              "      <td>1</td>\n",
              "    </tr>\n",
              "    <tr>\n",
              "      <th>3429</th>\n",
              "      <td>Pleurisy</td>\n",
              "      <td>\\ninflammation of the pleura, with exudation i...</td>\n",
              "      <td>lupusfact lupus can attack your lungs potenti...</td>\n",
              "      <td>1</td>\n",
              "      <td>1</td>\n",
              "      <td>0</td>\n",
              "      <td>0</td>\n",
              "      <td>0</td>\n",
              "      <td>1</td>\n",
              "    </tr>\n",
              "    <tr>\n",
              "      <th>3430</th>\n",
              "      <td>Pleurisy</td>\n",
              "      <td>\\ninflammation of the pleura, with exudation i...</td>\n",
              "      <td>lupusfact lupus can attack your lungs potenti...</td>\n",
              "      <td>1</td>\n",
              "      <td>1</td>\n",
              "      <td>1</td>\n",
              "      <td>0</td>\n",
              "      <td>0</td>\n",
              "      <td>1</td>\n",
              "    </tr>\n",
              "    <tr>\n",
              "      <th>3431</th>\n",
              "      <td>Pleurisy</td>\n",
              "      <td>\\ninflammation of the pleura, with exudation i...</td>\n",
              "      <td>lupusfact lupus can attack your lungs potenti...</td>\n",
              "      <td>0</td>\n",
              "      <td>0</td>\n",
              "      <td>0</td>\n",
              "      <td>0</td>\n",
              "      <td>1</td>\n",
              "      <td>0</td>\n",
              "    </tr>\n",
              "    <tr>\n",
              "      <th>3432</th>\n",
              "      <td>Pleurisy</td>\n",
              "      <td>\\ninflammation of the pleura, with exudation i...</td>\n",
              "      <td>lupusfact lupus can attack your lungs potenti...</td>\n",
              "      <td>0</td>\n",
              "      <td>1</td>\n",
              "      <td>1</td>\n",
              "      <td>1</td>\n",
              "      <td>0</td>\n",
              "      <td>0</td>\n",
              "    </tr>\n",
              "  </tbody>\n",
              "</table>\n",
              "<p>3433 rows × 9 columns</p>\n",
              "</div>"
            ],
            "text/plain": [
              "                         Concepts  ... Majority voting\n",
              "0     Acute myocardial infarction  ...               1\n",
              "1     Acute myocardial infarction  ...               0\n",
              "2     Acute myocardial infarction  ...               1\n",
              "3     Acute myocardial infarction  ...               0\n",
              "4     Acute myocardial infarction  ...               1\n",
              "...                           ...  ...             ...\n",
              "3428                     Pleurisy  ...               1\n",
              "3429                     Pleurisy  ...               1\n",
              "3430                     Pleurisy  ...               1\n",
              "3431                     Pleurisy  ...               0\n",
              "3432                     Pleurisy  ...               0\n",
              "\n",
              "[3433 rows x 9 columns]"
            ]
          },
          "metadata": {},
          "execution_count": 3
        }
      ]
    },
    {
      "cell_type": "code",
      "source": [
        "data.columns"
      ],
      "metadata": {
        "colab": {
          "base_uri": "https://localhost:8080/"
        },
        "id": "NSdyTJcxNDgg",
        "outputId": "31a484a3-2bab-4bc6-9fa1-5d4adec7a4f3"
      },
      "execution_count": 4,
      "outputs": [
        {
          "output_type": "execute_result",
          "data": {
            "text/plain": [
              "Index(['Concepts', 'Definition', 'CleanedTweet', 'Label1', 'Label2', 'Label3',\n",
              "       'Label4', 'Label5', 'Majority voting'],\n",
              "      dtype='object')"
            ]
          },
          "metadata": {},
          "execution_count": 4
        }
      ]
    },
    {
      "cell_type": "markdown",
      "source": [
        ""
      ],
      "metadata": {
        "id": "WfxWIDgkNZgf"
      }
    },
    {
      "cell_type": "code",
      "source": [
        "A= data['Label1']\n",
        "B = data['Label2']\n",
        "C = data['Label3']\n",
        "D = data['Label4']\n",
        "E= data['Label5']"
      ],
      "metadata": {
        "id": "sd9ZzSWtNG6g"
      },
      "execution_count": 5,
      "outputs": []
    },
    {
      "cell_type": "markdown",
      "source": [
        "Calculating the kappa score"
      ],
      "metadata": {
        "id": "McsBEcblNc8f"
      }
    },
    {
      "cell_type": "code",
      "source": [
        "from sklearn.metrics import cohen_kappa_score\n",
        "cohen_kappa_score(A,B)\n",
        "cohen_kappa_score(A,C)"
      ],
      "metadata": {
        "colab": {
          "base_uri": "https://localhost:8080/"
        },
        "id": "gt4sZoIhNJJ4",
        "outputId": "70e22811-09c7-4bbe-814b-760c073a9950"
      },
      "execution_count": 6,
      "outputs": [
        {
          "output_type": "execute_result",
          "data": {
            "text/plain": [
              "0.01219208690535356"
            ]
          },
          "metadata": {},
          "execution_count": 6
        }
      ]
    }
  ]
}